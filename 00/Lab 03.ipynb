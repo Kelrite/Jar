{
 "cells": [
  {
   "cell_type": "code",
   "execution_count": null,
   "metadata": {},
   "outputs": [],
   "source": [
    "import pandas, sys, warnings\n",
    "\n",
    "warnings.filterwarnings(\"ignore\")\n",
    "\n",
    "url = \"https://raw.githubusercontent.com/GoogleCloudPlatform/training-data-analyst/\"\n",
    "\n",
    "git = url + \"master/courses/machine_learning/deepdive2/production_ml/solutions/\"\n",
    "\n",
    "turl = git + \"data/score_train.csv\"\n",
    "\n",
    "train = reader(turl)\n",
    "\n",
    "train.iloc[:5]"
   ]
  },
  {
   "cell_type": "code",
   "execution_count": null,
   "metadata": {},
   "outputs": [],
   "source": [
    "rurl = git + \"data/score_test.csv\"\n",
    "\n",
    "testi = reader(rurl)\n",
    "\n",
    "testi.iloc[:5]"
   ]
  },
  {
   "cell_type": "code",
   "execution_count": null,
   "metadata": {},
   "outputs": [],
   "source": [
    "train_stats = valida.generate_statistics_from_dataframe(train)\n",
    "\n",
    "type(train_stats)"
   ]
  },
  {
   "cell_type": "code",
   "execution_count": null,
   "metadata": {},
   "outputs": [],
   "source": [
    "valida.visualize_statistics(train_stats)"
   ]
  },
  {
   "cell_type": "code",
   "execution_count": null,
   "metadata": {},
   "outputs": [],
   "source": [
    "testi_stats = valida.generate_statistics_from_dataframe(testi)\n",
    "\n",
    "type(testi_stats)"
   ]
  },
  {
   "cell_type": "code",
   "execution_count": null,
   "metadata": {},
   "outputs": [],
   "source": [
    "valida.visualize_statistics(testi_stats)"
   ]
  },
  {
   "cell_type": "code",
   "execution_count": null,
   "metadata": {},
   "outputs": [],
   "source": [
    "valida.visualize_statistics(\n",
    "  lhs_statistics=train_stats, lhs_name=\"train_stats\",\n",
    "  rhs_statistics=testi_stats, rhs_name=\"testi_stats\",\n",
    ")"
   ]
  },
  {
   "cell_type": "code",
   "execution_count": null,
   "metadata": {},
   "outputs": [],
   "source": [
    "train_schema = valida.infer_schema(train_stats)\n",
    "\n",
    "train_schema"
   ]
  },
  {
   "cell_type": "code",
   "execution_count": null,
   "metadata": {},
   "outputs": [],
   "source": [
    "valida.display_schema(train_schema)"
   ]
  }
 ],
 "metadata": {
  "language_info": {
   "name": "python"
  }
 },
 "nbformat": 4,
 "nbformat_minor": 2
}
