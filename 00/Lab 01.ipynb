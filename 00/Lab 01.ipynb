{
  "nbformat": 4,
  "nbformat_minor": 0,
  "metadata": {
    "colab": {
      "provenance": []
    },
    "kernelspec": {
      "name": "python3",
      "display_name": "Python 3"
    },
    "language_info": {
      "name": "python"
    }
  },
  "cells": [
    {
      "cell_type": "code",
      "execution_count": null,
      "metadata": {
        "id": "PVsmqsByzL4B"
      },
      "outputs": [],
      "source": [
        "import os\n",
        "\n",
        "os.environ[\"CloudStorage\"] = \"allomanusiayayaya\"\n",
        "\n",
        "os.environ[\"GoogleProject\"] = \"qwiklabs-gcp-03-b58c1940e6a4\"\n",
        "\n",
        "os.environ[\"GoogleRegion\"] = \"us-central1\"\n",
        "\n",
        "os.environ[\"TensorFlowVersion\"] = \"2.6\"\n",
        "\n",
        "os.environ[\"PythonVersion\"] = \"3.7\""
      ]
    },
    {
      "cell_type": "code",
      "source": [
        "%%bash\n",
        "\n",
        "export project=$(gcloud config list project --format \"value(core.project)\")"
      ],
      "metadata": {
        "id": "iq7cmKD-1WHg"
      },
      "execution_count": null,
      "outputs": []
    },
    {
      "cell_type": "code",
      "source": [
        "project"
      ],
      "metadata": {
        "id": "yLcI4D3w1ctL"
      },
      "execution_count": null,
      "outputs": []
    },
    {
      "cell_type": "code",
      "source": [
        "%%bash\n",
        "\n",
        "bq --location=US mk --dataset --description \"Baby Weight\" $project:babyweight"
      ],
      "metadata": {
        "id": "zWGWC48o1jRS"
      },
      "execution_count": null,
      "outputs": []
    },
    {
      "cell_type": "code",
      "source": [
        "%%bash\n",
        "\n",
        "bq ls"
      ],
      "metadata": {
        "id": "lEspWURw2ElQ"
      },
      "execution_count": null,
      "outputs": []
    },
    {
      "cell_type": "code",
      "source": [
        "%%bash\n",
        "\n",
        "gsutil mb -l ${GoogleRegion} gs://${CloudStorage}"
      ],
      "metadata": {
        "id": "mHMMdiiA2IHV"
      },
      "execution_count": null,
      "outputs": []
    },
    {
      "cell_type": "code",
      "source": [
        "%%bash\n",
        "\n",
        "gsutil ls"
      ],
      "metadata": {
        "id": "3Zy4aplQ2WNb"
      },
      "execution_count": null,
      "outputs": []
    },
    {
      "cell_type": "code",
      "source": [
        "%%bigquery\n",
        "\n",
        "CREATE OR REPLACE TABLE\n",
        "  babyweight.babyweight_data_\n",
        "SELECT\n",
        "  weight_pounds,\n",
        "  CAST(is_male AS STRING) AS is_male,\n",
        "  mother_age,\n",
        "  CASE\n",
        "    WHEN plurality = 1 THEN \"Single(1)\"\n",
        "    WHEN plurality = 2 THEN \"Twins(2)\"\n",
        "    WHEN plurality = 3 THEN \"Triplets(3)\"\n",
        "    WHEN plurality = 4 THEN \"Quadruplets(4)\"\n",
        "    WHEN plurality = 5 THEN \"Quintuplets(5)\"\n",
        "  END AS plurality,\n",
        "  gestation_weeks,\n",
        "  FARM_FINGERPRINT(CONCAT(CAST(YEAR AS STRING), CAST(month AS STRING))) AS hashmonth\n",
        "FROM\n",
        "  publicdata.samples.natality\n",
        "WHERE\n",
        "  year = 2010\n",
        "  AND weight_pounds > 0\n",
        "  AND mother_age > 0\n",
        "  AND plurality > 0\n",
        "  AND gestation_weeks > 0"
      ],
      "metadata": {
        "id": "dHTKduFC2YYi"
      },
      "execution_count": null,
      "outputs": []
    },
    {
      "cell_type": "code",
      "source": [
        "import google.cloud.bigquery as bigquery\n",
        "\n",
        "client = bigquery.Client()\n",
        "\n",
        "dataset = \"babyweight\"\n",
        "\n",
        "dataref = client.dataset(dataset_id=dataset, project=client.project)\n",
        "\n",
        "for label in [\"train\", \"testi\"]:\n",
        "\n",
        "  destination_url = os.path.join(\"gs://\", bucket, dataset, \"data\", \"{}*.csv\".format(label))\n",
        "\n",
        "  table = \"babyweight_data_{}\".format(label)\n",
        "\n",
        "  tableref = dataref.table(table)\n",
        "\n",
        "  extract = client.extract_table(tableref, destination_url, location=\"US\")\n",
        "\n",
        "  extract.result()"
      ],
      "metadata": {
        "id": "NPq2Si3ozUD0"
      },
      "execution_count": null,
      "outputs": []
    }
  ]
}